{
  "nbformat": 4,
  "nbformat_minor": 0,
  "metadata": {
    "colab": {
      "name": "TF-algorithmic-complexity-dataset.ipynb",
      "provenance": [],
      "collapsed_sections": [
        "kXjVK4a64KOy",
        "n2GKTkHm4HM-",
        "HtfgvuWi4QTE",
        "Lyz-T6goA3wb",
        "xkHuf5tuEAyz"
      ]
    },
    "kernelspec": {
      "name": "python3",
      "display_name": "Python 3"
    },
    "language_info": {
      "name": "python"
    }
  },
  "cells": [
    {
      "cell_type": "markdown",
      "metadata": {
        "id": "kXjVK4a64KOy"
      },
      "source": [
        "##Creando la clase Punto para el dataset (obsoleto)"
      ]
    },
    {
      "cell_type": "code",
      "metadata": {
        "id": "GG43KAlAQ7Yv"
      },
      "source": [
        "class Punto:\n",
        "  def __init__(self, x, y, tipo):\n",
        "    self.x = x\n",
        "    self.y = y\n",
        "    self.tipo = tipo ##tipo 0 = nada, 1 = almacen, 2 = entrega\n",
        "  def set_tipo(self, tipo):\n",
        "    self.tipo = tipo        "
      ],
      "execution_count": null,
      "outputs": []
    },
    {
      "cell_type": "markdown",
      "metadata": {
        "id": "n2GKTkHm4HM-"
      },
      "source": [
        "##Generando la matriz de Puntos para el Dataset (obsoleto)"
      ]
    },
    {
      "cell_type": "code",
      "metadata": {
        "id": "DPQYtFSCUU-S"
      },
      "source": [
        "import random as r\n",
        "import math\n",
        "\n",
        "puntos=[]\n",
        "for i in range(0,72):\n",
        "  puntos.append([])\n",
        "  for j in range(0,72):\n",
        "    puntos[i].append(Punto(i,j,0))\n",
        "\n",
        "n_a = r.randint(50, 100)\n",
        "n_e = r.randint(2500,5000)\n",
        "pos = [i for i in range(5184)]\n",
        "#lista puntos de distribucion\n",
        "aux=[]\n",
        "#lista puntos de entrega\n",
        "aux2=[]\n",
        "\n",
        "for i in range(n_a):\n",
        "  aleatorio = r.randint(0,len(pos)-1)\n",
        "  X = int(pos[aleatorio]/72)\n",
        "  Y = int(pos[aleatorio]%72)\n",
        "  pos.pop(aleatorio)\n",
        "  puntos[Y][X].set_tipo(1)\n",
        "  aux.append(puntos[Y][X])\n",
        "\n",
        "for i in range(n_e):\n",
        "  aleatorio = r.randint(0,len(pos)-1)\n",
        "  X = int(pos[aleatorio]/72)\n",
        "  Y = int(pos[aleatorio]%72)\n",
        "  pos.pop(aleatorio)\n",
        "  puntos[Y][X].set_tipo(2)\n",
        "  aux2.append(puntos[Y][X])\n"
      ],
      "execution_count": null,
      "outputs": []
    },
    {
      "cell_type": "markdown",
      "metadata": {
        "id": "HtfgvuWi4QTE"
      },
      "source": [
        "##Escribiendo la dataset en archivos csv (obsoleto)"
      ]
    },
    {
      "cell_type": "code",
      "metadata": {
        "id": "ddayfg-mSUlt"
      },
      "source": [
        "def write(a, str1):\n",
        "  f = open(str1 + \".csv\", \"w\")\n",
        "  f.write(\"x,y\")\n",
        "  for i in a:\n",
        "    f.write(str(i.x))\n",
        "    f.write(\",\")\n",
        "    f.write(str(i.y))\n",
        "    f.write(\"\\n\")\n",
        "write(aux, \"almacenes\")\n",
        "write(aux2, \"puntos_entrega\")"
      ],
      "execution_count": null,
      "outputs": []
    },
    {
      "cell_type": "markdown",
      "metadata": {
        "id": "9YNIpb46IfXR"
      },
      "source": [
        "##Dataset nueva"
      ]
    },
    {
      "cell_type": "code",
      "metadata": {
        "id": "I_Vvy3pVGqCZ",
        "colab": {
          "base_uri": "https://localhost:8080/"
        },
        "outputId": "5533e88f-c69b-4dd1-ad14-48456d3cb272"
      },
      "source": [
        "import numpy as np\n",
        "import numpy.random as npr\n",
        "\n",
        "n_a = npr.randint(50,100)\n",
        "n_e = npr.randint(2500,5000)\n",
        "\n",
        "points = npr.randint(0, 2000, (n_a+n_e, 2), dtype=np.int)\n",
        "almacenes = points[0:n_a]\n",
        "entregas = points[n_a:-1]\n",
        "print(almacenes)\n",
        "print('\\n')\n",
        "print(entregas)\n",
        "\n",
        "np.savetxt('almacenes.csv', almacenes, fmt=\"%i\", delimiter=\",\", header=\"x,y\", comments=\"\")\n",
        "np.savetxt('puntos_entrega.csv', entregas, fmt=\"%i\", delimiter=\",\", header=\"x,y\", comments=\"\")"
      ],
      "execution_count": 11,
      "outputs": [
        {
          "output_type": "stream",
          "name": "stdout",
          "text": [
            "[[1734  775]\n",
            " [ 985  365]\n",
            " [1138 1312]\n",
            " [ 320 1007]\n",
            " [ 889  957]\n",
            " [1672  786]\n",
            " [1878   40]\n",
            " [ 450  562]\n",
            " [ 682 1499]\n",
            " [1878   91]\n",
            " [ 506  840]\n",
            " [ 923  780]\n",
            " [ 513 1470]\n",
            " [1559  406]\n",
            " [1649  498]\n",
            " [1166 1574]\n",
            " [1317  776]\n",
            " [ 338  133]\n",
            " [1536 1316]\n",
            " [1543 1728]\n",
            " [ 284 1938]\n",
            " [1750  541]\n",
            " [ 226    1]\n",
            " [ 880 1848]\n",
            " [ 612   38]\n",
            " [ 164   84]\n",
            " [ 968  472]\n",
            " [1272  620]\n",
            " [ 144  830]\n",
            " [ 166 1235]\n",
            " [ 367  486]\n",
            " [ 747 1299]\n",
            " [1189   27]\n",
            " [1112  457]\n",
            " [ 811   94]\n",
            " [ 181  876]\n",
            " [ 244  754]\n",
            " [1094   66]\n",
            " [1568 1896]\n",
            " [ 399  167]\n",
            " [ 454  751]\n",
            " [1794 1168]\n",
            " [1472  833]\n",
            " [ 976  554]\n",
            " [ 671  929]\n",
            " [1474 1559]\n",
            " [ 448 1883]\n",
            " [ 541 1826]\n",
            " [1779  499]\n",
            " [1120 1011]\n",
            " [1578  913]\n",
            " [1826  808]\n",
            " [ 367 1680]\n",
            " [ 374  206]\n",
            " [1339 1188]\n",
            " [ 476 1864]\n",
            " [ 886  514]\n",
            " [1734  842]\n",
            " [  44 1513]\n",
            " [1461  658]\n",
            " [1472 1609]\n",
            " [  23   27]\n",
            " [1908 1243]\n",
            " [ 766 1703]]\n",
            "\n",
            "\n",
            "[[1497  745]\n",
            " [1899  694]\n",
            " [  17 1544]\n",
            " ...\n",
            " [1824  660]\n",
            " [1218 1452]\n",
            " [1509  366]]\n"
          ]
        }
      ]
    },
    {
      "cell_type": "markdown",
      "metadata": {
        "id": "Lyz-T6goA3wb"
      },
      "source": [
        "##Algoritmo de Ciclo Hamiltoniano"
      ]
    },
    {
      "cell_type": "code",
      "metadata": {
        "id": "6uW7jjdEA5zX"
      },
      "source": [
        "## La complejidad de este algoritmo es n^n o n!\n",
        "## Su notacion Big O seria O(n) = n!\n",
        "\n",
        "def Hamilton(matriz): ## devuelve el costo menor y su recorrido\n",
        "  visitados = []\n",
        "  n = len(matriz)\n",
        "  resultados = []\n",
        "  recorrido = []\n",
        "  for i in range(n):\n",
        "    visitados.append(-1)\n",
        "  visitados[0] = 0\n",
        "  \n",
        "  def Siguiente(k):\n",
        "    while True:\n",
        "      visitados[k] += 1\n",
        "      if visitados[k] == n:\n",
        "        visitados[k] = -1\n",
        "      if visitados[k] == -1:\n",
        "        return\n",
        "      if matriz[visitados[k-1]][visitados[k]] != 0:\n",
        "        j = 0\n",
        "        for i in range(k):\n",
        "          j += 1\n",
        "          if visitados[i] == visitados[k]:\n",
        "            break\n",
        "        if j == k:\n",
        "          if k < n or k == n:\n",
        "            return\n",
        "\n",
        "  def Hamiltoniano(k):\n",
        "    while True:\n",
        "      Siguiente(k)\n",
        "      if visitados[k] == -1:\n",
        "        return\n",
        "      \n",
        "      if k == n - 1:\n",
        "        aux = []\n",
        "        for i in range(n):\n",
        "          aux.append(visitados[i])\n",
        "        aux.append(0)\n",
        "        recorrido.append(aux)\n",
        "        suma = 0\n",
        "        for i in range(1,n):\n",
        "          suma += matriz[visitados[i-1]][visitados[i]]\n",
        "        suma += matriz[visitados[k]][0]\n",
        "        resultados.append(suma)\n",
        "      else:\n",
        "        Hamiltoniano(k+1)\n",
        "\n",
        "  Hamiltoniano(1)\n",
        "  aux = resultados[0]\n",
        "  id_menor = 0\n",
        "  for i in range(1, len(resultados)):\n",
        "    if resultados[i] <  aux:\n",
        "      aux = resultados[i]\n",
        "      id_menor = i\n",
        "  \n",
        "  return resultados[id_menor], recorrido[id_menor]"
      ],
      "execution_count": null,
      "outputs": []
    },
    {
      "cell_type": "markdown",
      "metadata": {
        "id": "xkHuf5tuEAyz"
      },
      "source": [
        "##Creando la matriz de pesos"
      ]
    },
    {
      "cell_type": "code",
      "metadata": {
        "id": "73fWDlEKf0CL",
        "colab": {
          "base_uri": "https://localhost:8080/"
        },
        "outputId": "555b5fdd-ae38-4dfb-8858-9fc170f77b73"
      },
      "source": [
        "#cantidad de puntos de entrega c/u vehiculo\n",
        "num = r.randint(5,10)\n",
        "#indice de lista para punto de distribucion aleatorio\n",
        "num_1 = r.randint(0,n_a-1)\n",
        "#lista para los puntos de entrega\n",
        "aux3=[]\n",
        "print('Punto de distribucion inicial: ', aux[num_1].x, aux[num_1].y ,\"\\nPuntos de entrega:\")\n",
        "for i in range(num):\n",
        "  val = r.randint(0,n_e-1)\n",
        "  aux3.append(aux2[val])\n",
        "  print(aux3[i].x,aux3[i].y)\n",
        "#lista para la matrices\n",
        "aux4=[]\n",
        "#lista de lista de matrices\n",
        "aux5=[]\n",
        "#creacion de la matrix de pesos:\n",
        "for i in range(num-1):\n",
        "  aux4 = []\n",
        "  for j in range(num-1):\n",
        "    val_1=(aux3[i].x - aux3[j].x)**2 + (aux3[i].y - aux3[j].y)**2\n",
        "    aux4.append(int(math.sqrt(val_1)))\n",
        "  #print(aux4)\n",
        "  aux5.append(aux4)\n",
        "  print(aux5[i])\n",
        "print(\"\\n\")\n",
        "for i in aux5:\n",
        "  print(i)"
      ],
      "execution_count": null,
      "outputs": [
        {
          "output_type": "stream",
          "name": "stdout",
          "text": [
            "Punto de distribucion inicial:  28 10 \n",
            "Puntos de entrega:\n",
            "71 6\n",
            "66 28\n",
            "32 49\n",
            "7 26\n",
            "63 67\n",
            "52 49\n",
            "35 39\n",
            "45 40\n",
            "[0, 22, 58, 67, 61, 47, 48]\n",
            "[22, 0, 39, 59, 39, 25, 32]\n",
            "[58, 39, 0, 33, 35, 20, 10]\n",
            "[67, 59, 33, 0, 69, 50, 30]\n",
            "[61, 39, 35, 69, 0, 21, 39]\n",
            "[47, 25, 20, 50, 21, 0, 19]\n",
            "[48, 32, 10, 30, 39, 19, 0]\n",
            "\n",
            "\n",
            "[0, 22, 58, 67, 61, 47, 48]\n",
            "[22, 0, 39, 59, 39, 25, 32]\n",
            "[58, 39, 0, 33, 35, 20, 10]\n",
            "[67, 59, 33, 0, 69, 50, 30]\n",
            "[61, 39, 35, 69, 0, 21, 39]\n",
            "[47, 25, 20, 50, 21, 0, 19]\n",
            "[48, 32, 10, 30, 39, 19, 0]\n"
          ]
        }
      ]
    },
    {
      "cell_type": "code",
      "metadata": {
        "id": "60kbGJkbf1YB"
      },
      "source": [
        ""
      ],
      "execution_count": null,
      "outputs": []
    }
  ]
}