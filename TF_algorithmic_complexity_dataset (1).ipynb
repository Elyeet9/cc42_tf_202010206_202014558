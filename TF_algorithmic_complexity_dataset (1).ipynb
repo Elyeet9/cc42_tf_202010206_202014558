{
  "nbformat": 4,
  "nbformat_minor": 0,
  "metadata": {
    "colab": {
      "name": "TF-algorithmic-complexity-dataset.ipynb",
      "provenance": [],
      "collapsed_sections": [
        "kXjVK4a64KOy",
        "n2GKTkHm4HM-",
        "HtfgvuWi4QTE",
        "Lyz-T6goA3wb",
        "xkHuf5tuEAyz"
      ]
    },
    "kernelspec": {
      "name": "python3",
      "display_name": "Python 3"
    },
    "language_info": {
      "name": "python"
    }
  },
  "cells": [
    {
      "cell_type": "markdown",
      "metadata": {
        "id": "9YNIpb46IfXR"
      },
      "source": [
        "##Dataset nueva"
      ]
    },
    {
      "cell_type": "code",
      "metadata": {
        "id": "I_Vvy3pVGqCZ",
        "colab": {
          "base_uri": "https://localhost:8080/"
        },
        "outputId": "622f0c97-454c-416a-9f85-81b670dcc850"
      },
      "source": [
        "import numpy as np\n",
        "import numpy.random as npr\n",
        "\n",
        "n_a = npr.randint(50,100)\n",
        "n_e = npr.randint(2500,5000)\n",
        "\n",
        "points = npr.randint(0, 2000, (n_a+n_e, 2), dtype=np.int)\n",
        "almacenes = points[0:n_a]\n",
        "entregas = points[n_a:-1]\n",
        "print(almacenes)\n",
        "print('\\n')\n",
        "print(entregas)\n",
        "\n",
        "np.savetxt('almacenes.csv', almacenes, fmt=\"%i\", delimiter=\",\", header=\"x,y\", comments=\"\")\n",
        "np.savetxt('puntos_entrega.csv', entregas, fmt=\"%i\", delimiter=\",\", header=\"x,y\", comments=\"\")"
      ],
      "execution_count": 9,
      "outputs": [
        {
          "output_type": "stream",
          "name": "stdout",
          "text": [
            "[[1062  123]\n",
            " [ 788  728]\n",
            " [1649 1085]\n",
            " [1191 1798]\n",
            " [1538 1970]\n",
            " [1948  269]\n",
            " [1025 1252]\n",
            " [ 784  928]\n",
            " [1105 1907]\n",
            " [ 559 1403]\n",
            " [ 750  960]\n",
            " [1254 1524]\n",
            " [ 915  436]\n",
            " [1713  560]\n",
            " [1396 1528]\n",
            " [1036 1668]\n",
            " [1772 1706]\n",
            " [1780  635]\n",
            " [1753 1273]\n",
            " [1760 1068]\n",
            " [ 841   67]\n",
            " [ 395 1039]\n",
            " [ 839 1761]\n",
            " [1447 1259]\n",
            " [1263 1537]\n",
            " [ 908 1943]\n",
            " [1574 1085]\n",
            " [ 414  382]\n",
            " [ 491  536]\n",
            " [ 250   57]\n",
            " [ 770 1411]\n",
            " [ 594 1742]\n",
            " [ 813  297]\n",
            " [1239  876]\n",
            " [1200 1918]\n",
            " [1030 1300]\n",
            " [ 257 1183]\n",
            " [1223 1302]\n",
            " [1598 1100]\n",
            " [ 114 1844]\n",
            " [ 353  354]\n",
            " [ 366  200]\n",
            " [1486  522]\n",
            " [1981  205]\n",
            " [ 580  968]\n",
            " [1117 1590]\n",
            " [ 437 1041]\n",
            " [1412  746]\n",
            " [1876 1634]\n",
            " [1432   98]\n",
            " [1130 1053]\n",
            " [   6  658]\n",
            " [1970  573]\n",
            " [1094 1954]\n",
            " [1367 1905]\n",
            " [1708  305]\n",
            " [ 821  204]\n",
            " [1026  360]\n",
            " [1249 1720]\n",
            " [1697  266]\n",
            " [ 750 1975]\n",
            " [ 485  509]\n",
            " [ 293 1330]\n",
            " [1293  493]\n",
            " [ 825  277]\n",
            " [ 158 1283]\n",
            " [ 258 1399]\n",
            " [1353  499]\n",
            " [1973 1837]\n",
            " [ 304 1868]\n",
            " [ 673  835]\n",
            " [1954 1763]\n",
            " [1454  868]\n",
            " [ 298   78]\n",
            " [1527   13]\n",
            " [  41 1721]\n",
            " [ 797 1951]\n",
            " [1301  256]\n",
            " [1853 1565]\n",
            " [1770  596]]\n",
            "\n",
            "\n",
            "[[1000 1513]\n",
            " [1460  971]\n",
            " [ 222  172]\n",
            " ...\n",
            " [1935 1561]\n",
            " [1573 1757]\n",
            " [1750  177]]\n"
          ]
        }
      ]
    },
    {
      "cell_type": "markdown",
      "metadata": {
        "id": "Lyz-T6goA3wb"
      },
      "source": [
        "##Algoritmo de Ciclo Hamiltoniano"
      ]
    },
    {
      "cell_type": "code",
      "metadata": {
        "id": "6uW7jjdEA5zX"
      },
      "source": [
        "## La complejidad de este algoritmo es n^n o n!\n",
        "## Su notacion Big O seria O(n) = n!\n",
        "\n",
        "def Hamilton(matriz): ## devuelve el costo menor y su recorrido\n",
        "  visitados = []\n",
        "  n = len(matriz)\n",
        "  resultados = []\n",
        "  recorrido = []\n",
        "  for i in range(n):\n",
        "    visitados.append(-1)\n",
        "  visitados[0] = 0\n",
        "  \n",
        "  def Siguiente(k):\n",
        "    while True:\n",
        "      visitados[k] += 1\n",
        "      if visitados[k] == n:\n",
        "        visitados[k] = -1\n",
        "      if visitados[k] == -1:\n",
        "        return\n",
        "      if matriz[visitados[k-1]][visitados[k]] != 0:\n",
        "        j = 0\n",
        "        for i in range(k):\n",
        "          j += 1\n",
        "          if visitados[i] == visitados[k]:\n",
        "            break\n",
        "        if j == k:\n",
        "          if k < n or k == n:\n",
        "            return\n",
        "\n",
        "  def Hamiltoniano(k):\n",
        "    while True:\n",
        "      Siguiente(k)\n",
        "      if visitados[k] == -1:\n",
        "        return\n",
        "      \n",
        "      if k == n - 1:\n",
        "        aux = []\n",
        "        for i in range(n):\n",
        "          aux.append(visitados[i])\n",
        "        aux.append(0)\n",
        "        recorrido.append(aux)\n",
        "        suma = 0\n",
        "        for i in range(1,n):\n",
        "          suma += matriz[visitados[i-1]][visitados[i]]\n",
        "        suma += matriz[visitados[k]][0]\n",
        "        resultados.append(suma)\n",
        "      else:\n",
        "        Hamiltoniano(k+1)\n",
        "\n",
        "  Hamiltoniano(1)\n",
        "  aux = resultados[0]\n",
        "  id_menor = 0\n",
        "  for i in range(1, len(resultados)):\n",
        "    if resultados[i] <  aux:\n",
        "      aux = resultados[i]\n",
        "      id_menor = i\n",
        "  \n",
        "  return resultados[id_menor], recorrido[id_menor]"
      ],
      "execution_count": null,
      "outputs": []
    },
    {
      "cell_type": "markdown",
      "metadata": {
        "id": "xkHuf5tuEAyz"
      },
      "source": [
        "##Creando la matriz de pesos"
      ]
    },
    {
      "cell_type": "code",
      "metadata": {
        "id": "73fWDlEKf0CL",
        "colab": {
          "base_uri": "https://localhost:8080/"
        },
        "outputId": "555b5fdd-ae38-4dfb-8858-9fc170f77b73"
      },
      "source": [
        "#lista de lista de matrices\n",
        "aux5=[]\n",
        "#creacion de la matrix de pesos:\n",
        "for i in range(num-1): \n",
        "  #lista para la matrices\n",
        "  aux4 = []\n",
        "  for j in range(num-1):\n",
        "    val_1=(aux3[i].x - aux3[j].x)**2 + (aux3[i].y - aux3[j].y)**2\n",
        "    aux4.append(int(math.sqrt(val_1)))\n",
        "  #print(aux4)\n",
        "  aux5.append(aux4)\n",
        "  print(aux5[i])\n",
        "print(\"\\n\")\n",
        "for i in aux5:\n",
        "  print(i)"
      ],
      "execution_count": null,
      "outputs": [
        {
          "output_type": "stream",
          "name": "stdout",
          "text": [
            "Punto de distribucion inicial:  28 10 \n",
            "Puntos de entrega:\n",
            "71 6\n",
            "66 28\n",
            "32 49\n",
            "7 26\n",
            "63 67\n",
            "52 49\n",
            "35 39\n",
            "45 40\n",
            "[0, 22, 58, 67, 61, 47, 48]\n",
            "[22, 0, 39, 59, 39, 25, 32]\n",
            "[58, 39, 0, 33, 35, 20, 10]\n",
            "[67, 59, 33, 0, 69, 50, 30]\n",
            "[61, 39, 35, 69, 0, 21, 39]\n",
            "[47, 25, 20, 50, 21, 0, 19]\n",
            "[48, 32, 10, 30, 39, 19, 0]\n",
            "\n",
            "\n",
            "[0, 22, 58, 67, 61, 47, 48]\n",
            "[22, 0, 39, 59, 39, 25, 32]\n",
            "[58, 39, 0, 33, 35, 20, 10]\n",
            "[67, 59, 33, 0, 69, 50, 30]\n",
            "[61, 39, 35, 69, 0, 21, 39]\n",
            "[47, 25, 20, 50, 21, 0, 19]\n",
            "[48, 32, 10, 30, 39, 19, 0]\n"
          ]
        }
      ]
    },
    {
      "cell_type": "code",
      "metadata": {
        "id": "60kbGJkbf1YB"
      },
      "source": [
        "def dijkstra(G, s):\n",
        "  n = len(G)\n",
        "  visitado = [False]*n\n",
        "  camino = [None]*n\n",
        "  costo = [math.inf]*n\n",
        "  costo[s] = 0\n",
        "  queue = [(0, s)]\n",
        "  while queue:\n",
        "    g_u, u = hq.heappop(queue)\n",
        "    if not visitado[u]:\n",
        "      visitado[u] = True\n",
        "      for v, w in G[u]:\n",
        "        f = g_u + w\n",
        "        if f < costo[v]:\n",
        "          costo[v] = f\n",
        "          camino[v] = u\n",
        "          hq.heappush(queue, (f, v))\n",
        "\n",
        "  return camino, costo"
      ],
      "execution_count": 1,
      "outputs": []
    },
    {
      "cell_type": "code",
      "metadata": {
        "id": "xJSIhovG-7la"
      },
      "source": [
        "from matplotlib import pyplot as plt    \n",
        "from matplotlib import style   \n",
        "import csv\n",
        "\n",
        "style.use('ggplot')    \n",
        "\n",
        "b = []\n",
        "b1 = []\n",
        "n_a = npr.randint(50,100)\n",
        "for i in range(n_a):\n",
        "  x = npr.randint(1000000)\n",
        "  y = npr.randint(1000000)\n",
        "  b.append(x)\n",
        "  b1.append(y)\n",
        "c = []\n",
        "c1 = []\n",
        "n_e = npr.randint(2500,5000)\n",
        "for i in range(n_e):\n",
        "  x = npr.randint(1000000)\n",
        "  y = npr.randint(1000000)\n",
        "  c.append(x)\n",
        "  c1.append(y)\n",
        "\n",
        "for k in range(1000):\n",
        "  for j in range(1000):\n",
        "    if j in b1 and k in b:\n",
        "      x = [k]\n",
        "      y = [j]\n",
        "      plt.scatter(x, y, color='r')\n",
        "    if j in c1 and k in c:\n",
        "      x = [k]\n",
        "      y = [j]\n",
        "      plt.scatter(x, y, color='b')\n",
        "    else:\n",
        "      x = [k]\n",
        "      y = [j]\n",
        "      plt.scatter(x, y, color='g')    \n",
        "    \n",
        "plt.show()    "
      ],
      "execution_count": null,
      "outputs": []
    }
  ]
}